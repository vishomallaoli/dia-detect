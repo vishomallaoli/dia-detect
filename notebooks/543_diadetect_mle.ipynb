{
  "nbformat": 4,
  "nbformat_minor": 0,
  "metadata": {
    "colab": {
      "provenance": [],
      "authorship_tag": "ABX9TyOd1w40IcghfsFcL4NYCZ+F",
      "include_colab_link": true
    },
    "kernelspec": {
      "name": "python3",
      "display_name": "Python 3"
    },
    "language_info": {
      "name": "python"
    }
  },
  "cells": [
    {
      "cell_type": "markdown",
      "metadata": {
        "id": "view-in-github",
        "colab_type": "text"
      },
      "source": [
        "<a href=\"https://colab.research.google.com/github/vishomallaoli/dia-detect/blob/main/notebooks/543_diadetect_mle.ipynb\" target=\"_parent\"><img src=\"https://colab.research.google.com/assets/colab-badge.svg\" alt=\"Open In Colab\"/></a>"
      ]
    },
    {
      "cell_type": "markdown",
      "source": [
        "# Model Development"
      ],
      "metadata": {
        "id": "qhjleA6JlGOA"
      }
    },
    {
      "cell_type": "markdown",
      "source": [
        "## Problem Definition\n",
        "\n",
        "### Outcome\n",
        "The goal is to predict the likelihood of a person having diabetes based on various demographic, health, and lifestyle features. This binary classification problem aims to accurately classify individuals as either diabetic or non-diabetic.\n",
        "\n",
        "### Objective\n",
        "To build a predictive model that determines whether an individual has diabetes or not, using medical, lifestyle, and demographic data. The model should assist in identifying individuals at risk, potentially supporting early intervention and preventive measures.\n",
        "\n",
        "### Target Variable\n",
        "- **Diabetes_binary**: The target variable for this classification task, where:\n",
        "  - **1** indicates the presence of diabetes.\n",
        "  - **0** indicates the absence of diabetes.\n",
        "\n",
        "### Features\n",
        "- The model will use a combination of medical, demographic, and lifestyle features, including:\n",
        "  - **Medical Features**: BMI, Blood Pressure, Glucose, and Insulin levels.\n",
        "  - **Lifestyle Features**: Physical activity, smoking status, alcohol consumption, and diet.\n",
        "  - **Demographic Features**: Age, sex, education level, and income.\n",
        "\n",
        "### Evaluation Metrics\n",
        "Since this is a classification task, we will assess model performance using the following metrics:\n",
        "\n",
        "- **Accuracy**: Measures overall correctness of the model but may be limited if there’s a class imbalance.\n",
        "- **Precision**: Indicates the proportion of true positive predictions (diabetic) out of all positive predictions, showing how reliable the model is in predicting diabetes.\n",
        "- **Recall**: Measures the proportion of true positives identified out of all actual positives, highlighting the model’s ability to detect diabetes cases.\n",
        "- **F1-score**: The harmonic mean of precision and recall, providing a balanced measure especially useful if there’s class imbalance.\n",
        "- **ROC-AUC**: Reflects the trade-off between sensitivity and specificity, where a higher score (closer to 1) indicates better performance.\n",
        "\n",
        "### Expected Outcome\n",
        "By training and testing the model on this dataset, we expect to:\n",
        "1. Accurately predict the diabetes status of individuals based on input features.\n",
        "2. Identify key predictors that contribute to the model’s decisions.\n",
        "3. Obtain a well-calibrated model that balances sensitivity and specificity, as indicated by a high ROC-AUC score.\n",
        "\n",
        "The final model will provide a valuable tool for predicting diabetes risk, aiding in early detection and potential intervention."
      ],
      "metadata": {
        "id": "v32Ria4elJBv"
      }
    },
    {
      "cell_type": "code",
      "source": [
        "# Import necessary libraries\n",
        "import pandas as pd\n",
        "from sklearn.model_selection import train_test_split\n",
        "from sklearn.linear_model import LogisticRegression\n",
        "from sklearn.metrics import accuracy_score, precision_score, recall_score, f1_score, roc_auc_score\n",
        "from sklearn.metrics import confusion_matrix, classification_report\n",
        "import seaborn as sns\n",
        "import matplotlib.pyplot as plt"
      ],
      "metadata": {
        "id": "jEqAEUVIlkkB"
      },
      "execution_count": 3,
      "outputs": []
    },
    {
      "cell_type": "code",
      "source": [
        "\"\"\"\n",
        "  Baseline Model Development\n",
        "\n",
        "  Deliverable: Build a simple model to establish baseline performance.\n",
        "  Current Recommended Model: Logistic Regression.\n",
        "\"\"\"\n",
        "# Load the cleaned dataset\n",
        "df = pd.read_csv('cleaned_df.csv')\n",
        "\n",
        "# Define features and target variable\n",
        "X = df.drop(columns=['Diabetes_binary'])  # Replace with the actual target variable name if different\n",
        "y = df['Diabetes_binary']\n",
        "\n",
        "# Split the data into training and testing sets\n",
        "X_train, X_test, y_train, y_test = train_test_split(X, y, test_size=0.2, random_state=42)\n",
        "\n",
        "# Initialize and train the Logistic Regression model\n",
        "logreg = LogisticRegression(max_iter=200, solver='lbfgs')\n",
        "logreg.fit(X_train, y_train)\n",
        "\n",
        "# Predict on the test set\n",
        "y_pred = logreg.predict(X_test)\n",
        "\n",
        "# Generate Confusion Matrix\n",
        "conf_matrix = confusion_matrix(y_test, y_pred)\n",
        "\n",
        "# Plot Confusion Matrix\n",
        "plt.figure(figsize=(6, 4))\n",
        "sns.heatmap(conf_matrix, annot=True, fmt=\"d\", cmap=\"Blues\", cbar=False,\n",
        "            xticklabels=['Non-Diabetic', 'Diabetic'],\n",
        "            yticklabels=['Non-Diabetic', 'Diabetic'])\n",
        "plt.xlabel(\"Predicted\")\n",
        "plt.ylabel(\"Actual\")\n",
        "plt.title(\"Confusion Matrix\")\n",
        "plt.show()\n",
        "\n",
        "# Display Classification Report\n",
        "print(\"\\nClassification Report:\")\n",
        "print(classification_report(y_test, y_pred, target_names=['Non-Diabetic', 'Diabetic']))\n",
        "\n",
        "# Evaluate performance and display metrics as percentages\n",
        "print(\"Baseline Model: Logistic Regression\")\n",
        "print(\"Accuracy:\", f\"{accuracy_score(y_test, y_pred) * 100:.2f}%\")\n",
        "print(\"Precision:\", f\"{precision_score(y_test, y_pred) * 100:.2f}%\")\n",
        "print(\"Recall:\", f\"{recall_score(y_test, y_pred) * 100:.2f}%\")\n",
        "print(\"F1 Score:\", f\"{f1_score(y_test, y_pred) * 100:.2f}%\")\n",
        "print(\"ROC AUC Score:\", f\"{roc_auc_score(y_test, y_pred) * 100:.2f}%\")"
      ],
      "metadata": {
        "colab": {
          "base_uri": "https://localhost:8080/",
          "height": 699
        },
        "id": "nH5FkGurmGFR",
        "outputId": "d30b9eed-580b-4069-9cdc-6a1aa32518a5"
      },
      "execution_count": 11,
      "outputs": [
        {
          "output_type": "display_data",
          "data": {
            "text/plain": [
              "<Figure size 600x400 with 1 Axes>"
            ],
            "image/png": "[encoded data removed]"
          },
          "metadata": {}
        },
        {
          "output_type": "stream",
          "name": "stdout",
          "text": [
            "\n",
            "Classification Report:\n",
            "              precision    recall  f1-score   support\n",
            "\n",
            "Non-Diabetic       0.75      0.73      0.74      6723\n",
            "    Diabetic       0.75      0.77      0.76      7089\n",
            "\n",
            "    accuracy                           0.75     13812\n",
            "   macro avg       0.75      0.75      0.75     13812\n",
            "weighted avg       0.75      0.75      0.75     13812\n",
            "\n",
            "Baseline Model: Logistic Regression\n",
            "Accuracy: 74.82%\n",
            "Precision: 74.85%\n",
            "Recall: 76.72%\n",
            "F1 Score: 75.77%\n",
            "ROC AUC Score: 74.77%\n"
          ]
        }
      ]
    },
    {
      "cell_type": "markdown",
      "source": [
        "## Baseline Model Report: Logistic Regression\n",
        "\n",
        "## Objective\n",
        "The objective of this classification problem is to predict diabetes status based on various medical and demographic features. The target variable is `Diabetes_binary`, where:\n",
        "- 1 = Diabetic\n",
        "- 0 = Non-Diabetic\n",
        "\n",
        "## Model Selection\n",
        "\n",
        "### Chosen Model: Logistic Regression\n",
        "Logistic Regression was selected as the baseline model for the following reasons:\n",
        "\n",
        "1. **Simplicity and Interpretability**: Logistic Regression is a straightforward and interpretable model. It allows us to understand initial relationships between features and the target, which is valuable at the baseline stage.\n",
        "  \n",
        "2. **Performance**: Logistic Regression generally performs well in binary classification tasks, especially on datasets that are well-prepared and standardized.\n",
        "  \n",
        "3. **Computational Efficiency**: Logistic Regression is computationally inexpensive, allowing for rapid iteration and testing during the initial phases of model development.\n",
        "  \n",
        "4. **Compatibility with Evaluation Metrics**: Logistic Regression works effectively with metrics commonly used in classification, such as accuracy, precision, recall, F1-score, and ROC-AUC.\n",
        "\n",
        "### Alternative Baseline Models\n",
        "While Logistic Regression is a strong choice for the baseline, here are other models that could serve as potential baselines:\n",
        "\n",
        "1. **Decision Tree**: Provides insight into feature importance and can handle non-linear relationships but may overfit without tuning.\n",
        "2. **k-Nearest Neighbors (k-NN)**: A simple model that doesn't assume any specific distribution but may be computationally slow for larger datasets.\n",
        "3. **Naive Bayes**: Useful for cases where feature independence is assumed, and it can provide strong results for some datasets.\n",
        "4. **Dummy Classifier**: Predicting the majority class as a minimal baseline to ensure real models outperform this.\n",
        "\n",
        "## Evaluation Metrics\n",
        "\n",
        "The following metrics were used to evaluate the baseline model's performance:\n",
        "- **Accuracy**: Measures the overall correctness of the model's predictions.\n",
        "- **Precision**: Indicates the proportion of true positives out of all positive predictions.\n",
        "- **Recall**: Reflects the model's ability to identify all true positives.\n",
        "- **F1 Score**: The harmonic mean of precision and recall, balancing the two metrics.\n",
        "- **ROC AUC**: A measure of the trade-off between sensitivity and specificity, providing a score between 0.5 and 1.\n",
        "\n",
        "## Model Performance\n",
        "\n",
        "### Confusion Matrix\n",
        "\n",
        "|             | Predicted: Non-Diabetic | Predicted: Diabetic |\n",
        "|-------------|--------------------------|----------------------|\n",
        "| Actual: Non-Diabetic | 4895                 | 1828                 |\n",
        "| Actual: Diabetic     | 1650                 | 5439                 |\n",
        "\n",
        "### Classification Report\n",
        "\n",
        "| Class           | Precision | Recall | F1-Score | Support |\n",
        "|-----------------|-----------|--------|----------|---------|\n",
        "| Non-Diabetic    | 0.75      | 0.73   | 0.74     | 6723    |\n",
        "| Diabetic        | 0.75      | 0.77   | 0.76     | 7089    |\n",
        "| **Accuracy**    |           |        | **0.75** | **13812** |\n",
        "| **Macro Avg**   | 0.75      | 0.75   | 0.75     | 13812   |\n",
        "| **Weighted Avg**| 0.75      | 0.75   | 0.75     | 13812   |\n",
        "\n",
        "### Summary of Baseline Performance\n",
        "\n",
        "- **Accuracy**: 74.82%\n",
        "- **Precision**: 74.85%\n",
        "- **Recall**: 76.72%\n",
        "- **F1 Score**: 75.77%\n",
        "- **ROC AUC Score**: 74.77%\n",
        "\n",
        "## Conclusion\n",
        "The Logistic Regression model provided a strong baseline performance with an accuracy of 74.82% and a balanced precision-recall trade-off. The recall is slightly higher for the Diabetic class, which indicates the model's slight tendency to prioritize identifying diabetic cases. This baseline gives a solid foundation, and further improvements can be pursued by exploring more complex models or fine-tuning logistic regression parameters."
      ],
      "metadata": {
        "id": "bmXnD7XVnoUp"
      }
    }
  ]
}